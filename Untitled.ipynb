{
 "cells": [
  {
   "cell_type": "code",
   "execution_count": 29,
   "metadata": {},
   "outputs": [
    {
     "name": "stderr",
     "output_type": "stream",
     "text": [
      "Importing plotly failed. Interactive plots will not work.\n"
     ]
    },
    {
     "name": "stdout",
     "output_type": "stream",
     "text": [
      "numpy version: 1.18.5\n",
      "pandas version: 1.0.5\n",
      "seaborn version: 0.9.0\n",
      "matplotlib version: 3.2.2\n",
      "scikit-learn version: 0.23.1\n",
      "statsmodels version: 0.10.2\n",
      "fbprophet version: 0.6\n"
     ]
    }
   ],
   "source": [
    "import numpy as np\n",
    "print(f\"numpy version: {np.__version__}\")\n",
    "import pandas as pd \n",
    "print(f\"pandas version: {pd.__version__}\")\n",
    "import seaborn as sns\n",
    "print(f\"seaborn version: {sns.__version__}\")\n",
    "import matplotlib\n",
    "import matplotlib.pyplot as plt\n",
    "print(f\"matplotlib version: {matplotlib.__version__}\")\n",
    "import sklearn\n",
    "print(f\"scikit-learn version: {sklearn.__version__}\")\n",
    "import warnings\n",
    "warnings.filterwarnings('ignore')\n",
    "import statsmodels\n",
    "print(f\"statsmodels version: {statsmodels.__version__}\")\n",
    "import fbprophet\n",
    "print(f\"fbprophet version: {fbprophet.__version__}\")"
   ]
  },
  {
   "cell_type": "code",
   "execution_count": 2,
   "metadata": {},
   "outputs": [],
   "source": [
    "from sklearn.model_selection import train_test_split"
   ]
  },
  {
   "cell_type": "code",
   "execution_count": 3,
   "metadata": {},
   "outputs": [
    {
     "name": "stdout",
     "output_type": "stream",
     "text": [
      "data  devops  Untitled.ipynb\n"
     ]
    }
   ],
   "source": [
    "!ls"
   ]
  },
  {
   "cell_type": "code",
   "execution_count": 4,
   "metadata": {},
   "outputs": [],
   "source": [
    "df = pd.read_csv('data/data.csv')"
   ]
  },
  {
   "cell_type": "code",
   "execution_count": 5,
   "metadata": {},
   "outputs": [
    {
     "data": {
      "text/html": [
       "<div>\n",
       "<style scoped>\n",
       "    .dataframe tbody tr th:only-of-type {\n",
       "        vertical-align: middle;\n",
       "    }\n",
       "\n",
       "    .dataframe tbody tr th {\n",
       "        vertical-align: top;\n",
       "    }\n",
       "\n",
       "    .dataframe thead th {\n",
       "        text-align: right;\n",
       "    }\n",
       "</style>\n",
       "<table border=\"1\" class=\"dataframe\">\n",
       "  <thead>\n",
       "    <tr style=\"text-align: right;\">\n",
       "      <th></th>\n",
       "      <th>0</th>\n",
       "    </tr>\n",
       "  </thead>\n",
       "  <tbody>\n",
       "    <tr>\n",
       "      <th>0</th>\n",
       "      <td>83.230355</td>\n",
       "    </tr>\n",
       "    <tr>\n",
       "      <th>1</th>\n",
       "      <td>19.754555</td>\n",
       "    </tr>\n",
       "    <tr>\n",
       "      <th>2</th>\n",
       "      <td>21.619758</td>\n",
       "    </tr>\n",
       "    <tr>\n",
       "      <th>3</th>\n",
       "      <td>21.656229</td>\n",
       "    </tr>\n",
       "    <tr>\n",
       "      <th>4</th>\n",
       "      <td>60.266253</td>\n",
       "    </tr>\n",
       "  </tbody>\n",
       "</table>\n",
       "</div>"
      ],
      "text/plain": [
       "           0\n",
       "0  83.230355\n",
       "1  19.754555\n",
       "2  21.619758\n",
       "3  21.656229\n",
       "4  60.266253"
      ]
     },
     "execution_count": 5,
     "metadata": {},
     "output_type": "execute_result"
    }
   ],
   "source": [
    "df.head()"
   ]
  },
  {
   "cell_type": "code",
   "execution_count": 6,
   "metadata": {},
   "outputs": [],
   "source": [
    "var = '0'"
   ]
  },
  {
   "cell_type": "code",
   "execution_count": 7,
   "metadata": {},
   "outputs": [
    {
     "data": {
      "text/plain": [
       "<matplotlib.axes._subplots.AxesSubplot at 0x7f0ba74b9590>"
      ]
     },
     "execution_count": 7,
     "metadata": {},
     "output_type": "execute_result"
    },
    {
     "data": {
      "image/png": "[encoded data removed]",
      "text/plain": [
       "<Figure size 432x288 with 1 Axes>"
      ]
     },
     "metadata": {
      "needs_background": "light"
     },
     "output_type": "display_data"
    }
   ],
   "source": [
    "sns.distplot(df[var], bins=30)"
   ]
  },
  {
   "cell_type": "code",
   "execution_count": 8,
   "metadata": {},
   "outputs": [
    {
     "data": {
      "text/plain": [
       "count    140.000000\n",
       "mean     143.464646\n",
       "std       66.138094\n",
       "min       19.754555\n",
       "25%       93.064169\n",
       "50%      146.134045\n",
       "75%      187.236771\n",
       "max      285.342109\n",
       "Name: 0, dtype: float64"
      ]
     },
     "execution_count": 8,
     "metadata": {},
     "output_type": "execute_result"
    }
   ],
   "source": [
    "df[var].describe()"
   ]
  },
  {
   "cell_type": "code",
   "execution_count": 9,
   "metadata": {},
   "outputs": [],
   "source": [
    "train_size = int(len(df) * 0.8)\n",
    "train = df[:train_size]; test = df[train_size:]"
   ]
  },
  {
   "cell_type": "code",
   "execution_count": 10,
   "metadata": {},
   "outputs": [],
   "source": [
    "test.index = pd.RangeIndex(len(test))"
   ]
  },
  {
   "cell_type": "code",
   "execution_count": 11,
   "metadata": {},
   "outputs": [
    {
     "data": {
      "text/plain": [
       "((112, 1), (28, 1))"
      ]
     },
     "execution_count": 11,
     "metadata": {},
     "output_type": "execute_result"
    }
   ],
   "source": [
    "train.shape, test.shape"
   ]
  },
  {
   "cell_type": "code",
   "execution_count": 12,
   "metadata": {},
   "outputs": [
    {
     "data": {
      "text/plain": [
       "[<matplotlib.lines.Line2D at 0x7f0ba903db10>]"
      ]
     },
     "execution_count": 12,
     "metadata": {},
     "output_type": "execute_result"
    },
    {
     "data": {
      "image/png": "[encoded data removed]",
      "text/plain": [
       "<Figure size 432x288 with 1 Axes>"
      ]
     },
     "metadata": {
      "needs_background": "light"
     },
     "output_type": "display_data"
    }
   ],
   "source": [
    "plt.plot(df)"
   ]
  },
  {
   "cell_type": "code",
   "execution_count": 13,
   "metadata": {},
   "outputs": [
    {
     "data": {
      "text/plain": [
       "<matplotlib.axes._subplots.AxesSubplot at 0x7f0ba6b91910>"
      ]
     },
     "execution_count": 13,
     "metadata": {},
     "output_type": "execute_result"
    },
    {
     "data": {
      "image/png": "[encoded data removed]",
      "text/plain": [
       "<Figure size 432x288 with 1 Axes>"
      ]
     },
     "metadata": {
      "needs_background": "light"
     },
     "output_type": "display_data"
    }
   ],
   "source": [
    "pd.plotting.autocorrelation_plot(df)"
   ]
  },
  {
   "cell_type": "code",
   "execution_count": 14,
   "metadata": {},
   "outputs": [],
   "source": [
    "from statsmodels.tsa.arima_model import ARIMA\n",
    "from scipy.stats import norm\n",
    "import statsmodels.api as sm"
   ]
  },
  {
   "cell_type": "code",
   "execution_count": 15,
   "metadata": {},
   "outputs": [
    {
     "data": {
      "text/plain": [
       "<matplotlib.lines.Line2D at 0x7f0ba3331a50>"
      ]
     },
     "execution_count": 15,
     "metadata": {},
     "output_type": "execute_result"
    },
    {
     "data": {
      "image/png": "[encoded data removed]",
      "text/plain": [
       "<Figure size 432x288 with 1 Axes>"
      ]
     },
     "metadata": {
      "needs_background": "light"
     },
     "output_type": "display_data"
    }
   ],
   "source": [
    "sm.graphics.tsa.plot_acf(df.iloc[1:][var], lags=14)\n",
    "plt.axhline(y=0,linestyle='--',color='gray')\n",
    "plt.axhline(y=-1.96/np.sqrt(len(df)),linestyle='--',color='gray')\n",
    "plt.axhline(y=1.96/np.sqrt(len(df)),linestyle='--',color='gray')"
   ]
  },
  {
   "cell_type": "code",
   "execution_count": 16,
   "metadata": {},
   "outputs": [
    {
     "data": {
      "text/plain": [
       "<matplotlib.lines.Line2D at 0x7f0ba32bfa10>"
      ]
     },
     "execution_count": 16,
     "metadata": {},
     "output_type": "execute_result"
    },
    {
     "data": {
      "image/png": "[encoded data removed]",
      "text/plain": [
       "<Figure size 432x288 with 1 Axes>"
      ]
     },
     "metadata": {
      "needs_background": "light"
     },
     "output_type": "display_data"
    }
   ],
   "source": [
    "fig = sm.graphics.tsa.plot_pacf(df.iloc[1:][var], lags=14)\n",
    "plt.axhline(y=0,linestyle='--', color='gray')\n",
    "plt.axhline(y=-1.96/np.sqrt(len(df)), linestyle='--',color='gray')\n",
    "plt.axhline(y=1.96/np.sqrt(len(df)), linestyle='--',color='gray')"
   ]
  },
  {
   "cell_type": "code",
   "execution_count": 17,
   "metadata": {},
   "outputs": [],
   "source": [
    "order = (7, 1, 1)"
   ]
  },
  {
   "cell_type": "code",
   "execution_count": 18,
   "metadata": {},
   "outputs": [],
   "source": [
    "arima = ARIMA(df, order=order)\n",
    "arima_fit = arima.fit()"
   ]
  },
  {
   "cell_type": "code",
   "execution_count": 19,
   "metadata": {},
   "outputs": [
    {
     "data": {
      "text/html": [
       "<table class=\"simpletable\">\n",
       "<caption>ARIMA Model Results</caption>\n",
       "<tr>\n",
       "  <th>Dep. Variable:</th>        <td>D.0</td>       <th>  No. Observations:  </th>    <td>139</td>  \n",
       "</tr>\n",
       "<tr>\n",
       "  <th>Model:</th>          <td>ARIMA(7, 1, 1)</td>  <th>  Log Likelihood     </th> <td>-477.081</td>\n",
       "</tr>\n",
       "<tr>\n",
       "  <th>Method:</th>             <td>css-mle</td>     <th>  S.D. of innovations</th>   <td>7.061</td> \n",
       "</tr>\n",
       "<tr>\n",
       "  <th>Date:</th>          <td>Tue, 01 Sep 2020</td> <th>  AIC                </th>  <td>974.161</td>\n",
       "</tr>\n",
       "<tr>\n",
       "  <th>Time:</th>              <td>16:40:14</td>     <th>  BIC                </th> <td>1003.506</td>\n",
       "</tr>\n",
       "<tr>\n",
       "  <th>Sample:</th>                <td>1</td>        <th>  HQIC               </th>  <td>986.086</td>\n",
       "</tr>\n",
       "<tr>\n",
       "  <th></th>                       <td> </td>        <th>                     </th>     <td> </td>   \n",
       "</tr>\n",
       "</table>\n",
       "<table class=\"simpletable\">\n",
       "<tr>\n",
       "      <td></td>         <th>coef</th>     <th>std err</th>      <th>z</th>      <th>P>|z|</th>  <th>[0.025</th>    <th>0.975]</th>  \n",
       "</tr>\n",
       "<tr>\n",
       "  <th>const</th>     <td>    1.1604</td> <td>    0.059</td> <td>   19.572</td> <td> 0.000</td> <td>    1.044</td> <td>    1.277</td>\n",
       "</tr>\n",
       "<tr>\n",
       "  <th>ar.L1.D.0</th> <td>   -0.5417</td> <td>    0.208</td> <td>   -2.604</td> <td> 0.010</td> <td>   -0.949</td> <td>   -0.134</td>\n",
       "</tr>\n",
       "<tr>\n",
       "  <th>ar.L2.D.0</th> <td>   -0.6559</td> <td>    0.193</td> <td>   -3.389</td> <td> 0.001</td> <td>   -1.035</td> <td>   -0.277</td>\n",
       "</tr>\n",
       "<tr>\n",
       "  <th>ar.L3.D.0</th> <td>   -0.6017</td> <td>    0.204</td> <td>   -2.950</td> <td> 0.004</td> <td>   -1.001</td> <td>   -0.202</td>\n",
       "</tr>\n",
       "<tr>\n",
       "  <th>ar.L4.D.0</th> <td>   -0.6482</td> <td>    0.197</td> <td>   -3.289</td> <td> 0.001</td> <td>   -1.034</td> <td>   -0.262</td>\n",
       "</tr>\n",
       "<tr>\n",
       "  <th>ar.L5.D.0</th> <td>   -0.6098</td> <td>    0.204</td> <td>   -2.982</td> <td> 0.003</td> <td>   -1.011</td> <td>   -0.209</td>\n",
       "</tr>\n",
       "<tr>\n",
       "  <th>ar.L6.D.0</th> <td>   -0.5661</td> <td>    0.199</td> <td>   -2.847</td> <td> 0.005</td> <td>   -0.956</td> <td>   -0.176</td>\n",
       "</tr>\n",
       "<tr>\n",
       "  <th>ar.L7.D.0</th> <td>    0.2832</td> <td>    0.195</td> <td>    1.455</td> <td> 0.148</td> <td>   -0.098</td> <td>    0.664</td>\n",
       "</tr>\n",
       "<tr>\n",
       "  <th>ma.L1.D.0</th> <td>   -0.5827</td> <td>    0.176</td> <td>   -3.308</td> <td> 0.001</td> <td>   -0.928</td> <td>   -0.237</td>\n",
       "</tr>\n",
       "</table>\n",
       "<table class=\"simpletable\">\n",
       "<caption>Roots</caption>\n",
       "<tr>\n",
       "    <td></td>   <th>            Real</th>  <th>         Imaginary</th> <th>         Modulus</th>  <th>        Frequency</th>\n",
       "</tr>\n",
       "<tr>\n",
       "  <th>AR.1</th> <td>          -0.9348</td> <td>          -0.4785j</td> <td>           1.0502</td> <td>          -0.4247</td>\n",
       "</tr>\n",
       "<tr>\n",
       "  <th>AR.2</th> <td>          -0.9348</td> <td>          +0.4785j</td> <td>           1.0502</td> <td>           0.4247</td>\n",
       "</tr>\n",
       "<tr>\n",
       "  <th>AR.3</th> <td>          -0.2187</td> <td>          -0.9987j</td> <td>           1.0224</td> <td>          -0.2843</td>\n",
       "</tr>\n",
       "<tr>\n",
       "  <th>AR.4</th> <td>          -0.2187</td> <td>          +0.9987j</td> <td>           1.0224</td> <td>           0.2843</td>\n",
       "</tr>\n",
       "<tr>\n",
       "  <th>AR.5</th> <td>           0.6233</td> <td>          -0.7827j</td> <td>           1.0006</td> <td>          -0.1430</td>\n",
       "</tr>\n",
       "<tr>\n",
       "  <th>AR.6</th> <td>           0.6233</td> <td>          +0.7827j</td> <td>           1.0006</td> <td>           0.1430</td>\n",
       "</tr>\n",
       "<tr>\n",
       "  <th>AR.7</th> <td>           3.0595</td> <td>          -0.0000j</td> <td>           3.0595</td> <td>          -0.0000</td>\n",
       "</tr>\n",
       "<tr>\n",
       "  <th>MA.1</th> <td>           1.7162</td> <td>          +0.0000j</td> <td>           1.7162</td> <td>           0.0000</td>\n",
       "</tr>\n",
       "</table>"
      ],
      "text/plain": [
       "<class 'statsmodels.iolib.summary.Summary'>\n",
       "\"\"\"\n",
       "                             ARIMA Model Results                              \n",
       "==============================================================================\n",
       "Dep. Variable:                    D.0   No. Observations:                  139\n",
       "Model:                 ARIMA(7, 1, 1)   Log Likelihood                -477.081\n",
       "Method:                       css-mle   S.D. of innovations              7.061\n",
       "Date:                Tue, 01 Sep 2020   AIC                            974.161\n",
       "Time:                        16:40:14   BIC                           1003.506\n",
       "Sample:                             1   HQIC                           986.086\n",
       "                                                                              \n",
       "==============================================================================\n",
       "                 coef    std err          z      P>|z|      [0.025      0.975]\n",
       "------------------------------------------------------------------------------\n",
       "const          1.1604      0.059     19.572      0.000       1.044       1.277\n",
       "ar.L1.D.0     -0.5417      0.208     -2.604      0.010      -0.949      -0.134\n",
       "ar.L2.D.0     -0.6559      0.193     -3.389      0.001      -1.035      -0.277\n",
       "ar.L3.D.0     -0.6017      0.204     -2.950      0.004      -1.001      -0.202\n",
       "ar.L4.D.0     -0.6482      0.197     -3.289      0.001      -1.034      -0.262\n",
       "ar.L5.D.0     -0.6098      0.204     -2.982      0.003      -1.011      -0.209\n",
       "ar.L6.D.0     -0.5661      0.199     -2.847      0.005      -0.956      -0.176\n",
       "ar.L7.D.0      0.2832      0.195      1.455      0.148      -0.098       0.664\n",
       "ma.L1.D.0     -0.5827      0.176     -3.308      0.001      -0.928      -0.237\n",
       "                                    Roots                                    \n",
       "=============================================================================\n",
       "                  Real          Imaginary           Modulus         Frequency\n",
       "-----------------------------------------------------------------------------\n",
       "AR.1           -0.9348           -0.4785j            1.0502           -0.4247\n",
       "AR.2           -0.9348           +0.4785j            1.0502            0.4247\n",
       "AR.3           -0.2187           -0.9987j            1.0224           -0.2843\n",
       "AR.4           -0.2187           +0.9987j            1.0224            0.2843\n",
       "AR.5            0.6233           -0.7827j            1.0006           -0.1430\n",
       "AR.6            0.6233           +0.7827j            1.0006            0.1430\n",
       "AR.7            3.0595           -0.0000j            3.0595           -0.0000\n",
       "MA.1            1.7162           +0.0000j            1.7162            0.0000\n",
       "-----------------------------------------------------------------------------\n",
       "\"\"\""
      ]
     },
     "execution_count": 19,
     "metadata": {},
     "output_type": "execute_result"
    }
   ],
   "source": [
    "arima_fit.summary()"
   ]
  },
  {
   "cell_type": "code",
   "execution_count": 20,
   "metadata": {},
   "outputs": [
    {
     "data": {
      "text/plain": [
       "9.893535708854783"
      ]
     },
     "execution_count": 20,
     "metadata": {},
     "output_type": "execute_result"
    }
   ],
   "source": [
    "np.sqrt(sum(x * x for x in arima_fit.resid) / len(arima_fit.resid))"
   ]
  },
  {
   "cell_type": "code",
   "execution_count": 21,
   "metadata": {},
   "outputs": [],
   "source": [
    "res = pd.DataFrame(arima_fit.resid)"
   ]
  },
  {
   "cell_type": "code",
   "execution_count": 22,
   "metadata": {},
   "outputs": [
    {
     "data": {
      "text/plain": [
       "<matplotlib.axes._subplots.AxesSubplot at 0x7f0ba3216390>"
      ]
     },
     "execution_count": 22,
     "metadata": {},
     "output_type": "execute_result"
    },
    {
     "data": {
      "image/png": "[encoded data removed]",
      "text/plain": [
       "<Figure size 432x288 with 1 Axes>"
      ]
     },
     "metadata": {
      "needs_background": "light"
     },
     "output_type": "display_data"
    }
   ],
   "source": [
    "res.plot()"
   ]
  },
  {
   "cell_type": "code",
   "execution_count": 23,
   "metadata": {},
   "outputs": [
    {
     "data": {
      "text/plain": [
       "<matplotlib.axes._subplots.AxesSubplot at 0x7f0ba325fa90>"
      ]
     },
     "execution_count": 23,
     "metadata": {},
     "output_type": "execute_result"
    },
    {
     "data": {
      "image/png": "[encoded data removed]",
      "text/plain": [
       "<Figure size 432x288 with 1 Axes>"
      ]
     },
     "metadata": {
      "needs_background": "light"
     },
     "output_type": "display_data"
    }
   ],
   "source": [
    "res.plot(kind='kde')"
   ]
  },
  {
   "cell_type": "code",
   "execution_count": 24,
   "metadata": {},
   "outputs": [
    {
     "data": {
      "text/html": [
       "<div>\n",
       "<style scoped>\n",
       "    .dataframe tbody tr th:only-of-type {\n",
       "        vertical-align: middle;\n",
       "    }\n",
       "\n",
       "    .dataframe tbody tr th {\n",
       "        vertical-align: top;\n",
       "    }\n",
       "\n",
       "    .dataframe thead th {\n",
       "        text-align: right;\n",
       "    }\n",
       "</style>\n",
       "<table border=\"1\" class=\"dataframe\">\n",
       "  <thead>\n",
       "    <tr style=\"text-align: right;\">\n",
       "      <th></th>\n",
       "      <th>0</th>\n",
       "    </tr>\n",
       "  </thead>\n",
       "  <tbody>\n",
       "    <tr>\n",
       "      <th>count</th>\n",
       "      <td>139.000000</td>\n",
       "    </tr>\n",
       "    <tr>\n",
       "      <th>mean</th>\n",
       "      <td>-0.327652</td>\n",
       "    </tr>\n",
       "    <tr>\n",
       "      <th>std</th>\n",
       "      <td>9.923870</td>\n",
       "    </tr>\n",
       "    <tr>\n",
       "      <th>min</th>\n",
       "      <td>-64.636155</td>\n",
       "    </tr>\n",
       "    <tr>\n",
       "      <th>25%</th>\n",
       "      <td>-5.193902</td>\n",
       "    </tr>\n",
       "    <tr>\n",
       "      <th>50%</th>\n",
       "      <td>0.307004</td>\n",
       "    </tr>\n",
       "    <tr>\n",
       "      <th>75%</th>\n",
       "      <td>5.439512</td>\n",
       "    </tr>\n",
       "    <tr>\n",
       "      <th>max</th>\n",
       "      <td>28.899384</td>\n",
       "    </tr>\n",
       "  </tbody>\n",
       "</table>\n",
       "</div>"
      ],
      "text/plain": [
       "                0\n",
       "count  139.000000\n",
       "mean    -0.327652\n",
       "std      9.923870\n",
       "min    -64.636155\n",
       "25%     -5.193902\n",
       "50%      0.307004\n",
       "75%      5.439512\n",
       "max     28.899384"
      ]
     },
     "execution_count": 24,
     "metadata": {},
     "output_type": "execute_result"
    }
   ],
   "source": [
    "res.describe()"
   ]
  },
  {
   "cell_type": "code",
   "execution_count": 25,
   "metadata": {},
   "outputs": [],
   "source": [
    "pred = arima_fit.predict(start=train_size)"
   ]
  },
  {
   "cell_type": "code",
   "execution_count": 26,
   "metadata": {},
   "outputs": [
    {
     "data": {
      "text/plain": [
       "array([219.94415566, 247.62213177])"
      ]
     },
     "execution_count": 26,
     "metadata": {},
     "output_type": "execute_result"
    }
   ],
   "source": [
    "conf_interval = arima_fit.forecast()[2][0]\n",
    "conf_interval"
   ]
  },
  {
   "cell_type": "code",
   "execution_count": 27,
   "metadata": {},
   "outputs": [
    {
     "data": {
      "text/html": [
       "<div>\n",
       "<style scoped>\n",
       "    .dataframe tbody tr th:only-of-type {\n",
       "        vertical-align: middle;\n",
       "    }\n",
       "\n",
       "    .dataframe tbody tr th {\n",
       "        vertical-align: top;\n",
       "    }\n",
       "\n",
       "    .dataframe thead th {\n",
       "        text-align: right;\n",
       "    }\n",
       "</style>\n",
       "<table border=\"1\" class=\"dataframe\">\n",
       "  <thead>\n",
       "    <tr style=\"text-align: right;\">\n",
       "      <th></th>\n",
       "      <th>0</th>\n",
       "      <th>1</th>\n",
       "    </tr>\n",
       "  </thead>\n",
       "  <tbody>\n",
       "    <tr>\n",
       "      <th>const</th>\n",
       "      <td>1.044154</td>\n",
       "      <td>1.276556</td>\n",
       "    </tr>\n",
       "    <tr>\n",
       "      <th>ar.L1.D.0</th>\n",
       "      <td>-0.949394</td>\n",
       "      <td>-0.134031</td>\n",
       "    </tr>\n",
       "    <tr>\n",
       "      <th>ar.L2.D.0</th>\n",
       "      <td>-1.035093</td>\n",
       "      <td>-0.276607</td>\n",
       "    </tr>\n",
       "    <tr>\n",
       "      <th>ar.L3.D.0</th>\n",
       "      <td>-1.001496</td>\n",
       "      <td>-0.201898</td>\n",
       "    </tr>\n",
       "    <tr>\n",
       "      <th>ar.L4.D.0</th>\n",
       "      <td>-1.034411</td>\n",
       "      <td>-0.261968</td>\n",
       "    </tr>\n",
       "    <tr>\n",
       "      <th>ar.L5.D.0</th>\n",
       "      <td>-1.010551</td>\n",
       "      <td>-0.208976</td>\n",
       "    </tr>\n",
       "    <tr>\n",
       "      <th>ar.L6.D.0</th>\n",
       "      <td>-0.955761</td>\n",
       "      <td>-0.176369</td>\n",
       "    </tr>\n",
       "    <tr>\n",
       "      <th>ar.L7.D.0</th>\n",
       "      <td>-0.098158</td>\n",
       "      <td>0.664479</td>\n",
       "    </tr>\n",
       "    <tr>\n",
       "      <th>ma.L1.D.0</th>\n",
       "      <td>-0.927967</td>\n",
       "      <td>-0.237397</td>\n",
       "    </tr>\n",
       "  </tbody>\n",
       "</table>\n",
       "</div>"
      ],
      "text/plain": [
       "                  0         1\n",
       "const      1.044154  1.276556\n",
       "ar.L1.D.0 -0.949394 -0.134031\n",
       "ar.L2.D.0 -1.035093 -0.276607\n",
       "ar.L3.D.0 -1.001496 -0.201898\n",
       "ar.L4.D.0 -1.034411 -0.261968\n",
       "ar.L5.D.0 -1.010551 -0.208976\n",
       "ar.L6.D.0 -0.955761 -0.176369\n",
       "ar.L7.D.0 -0.098158  0.664479\n",
       "ma.L1.D.0 -0.927967 -0.237397"
      ]
     },
     "execution_count": 27,
     "metadata": {},
     "output_type": "execute_result"
    }
   ],
   "source": [
    "arima_fit.conf_int()"
   ]
  },
  {
   "cell_type": "code",
   "execution_count": 28,
   "metadata": {},
   "outputs": [
    {
     "data": {
      "text/plain": [
       "<matplotlib.lines.Line2D at 0x7f0ba28951d0>"
      ]
     },
     "execution_count": 28,
     "metadata": {},
     "output_type": "execute_result"
    },
    {
     "data": {
      "image/png": "[encoded data removed]",
      "text/plain": [
       "<Figure size 432x288 with 1 Axes>"
      ]
     },
     "metadata": {
      "needs_background": "light"
     },
     "output_type": "display_data"
    }
   ],
   "source": [
    "plt.plot(test)\n",
    "plt.axhline(y=conf_interval[0], linestyle='--')\n",
    "plt.axhline(y=conf_interval[1], linestyle='--')"
   ]
  },
  {
   "cell_type": "code",
   "execution_count": 40,
   "metadata": {},
   "outputs": [],
   "source": [
    "prophet = fbprophet.Prophet()"
   ]
  },
  {
   "cell_type": "code",
   "execution_count": 41,
   "metadata": {},
   "outputs": [],
   "source": [
    "df.rename(columns={'0': 'y'}, inplace=True)"
   ]
  },
  {
   "cell_type": "code",
   "execution_count": 42,
   "metadata": {},
   "outputs": [],
   "source": [
    "df['ds'] = pd.date_range('20000101', periods=len(df), freq='D')"
   ]
  },
  {
   "cell_type": "code",
   "execution_count": 43,
   "metadata": {},
   "outputs": [
    {
     "data": {
      "text/html": [
       "<div>\n",
       "<style scoped>\n",
       "    .dataframe tbody tr th:only-of-type {\n",
       "        vertical-align: middle;\n",
       "    }\n",
       "\n",
       "    .dataframe tbody tr th {\n",
       "        vertical-align: top;\n",
       "    }\n",
       "\n",
       "    .dataframe thead th {\n",
       "        text-align: right;\n",
       "    }\n",
       "</style>\n",
       "<table border=\"1\" class=\"dataframe\">\n",
       "  <thead>\n",
       "    <tr style=\"text-align: right;\">\n",
       "      <th></th>\n",
       "      <th>y</th>\n",
       "      <th>ds</th>\n",
       "    </tr>\n",
       "  </thead>\n",
       "  <tbody>\n",
       "    <tr>\n",
       "      <th>0</th>\n",
       "      <td>83.230355</td>\n",
       "      <td>2000-01-01</td>\n",
       "    </tr>\n",
       "    <tr>\n",
       "      <th>1</th>\n",
       "      <td>19.754555</td>\n",
       "      <td>2000-01-02</td>\n",
       "    </tr>\n",
       "    <tr>\n",
       "      <th>2</th>\n",
       "      <td>21.619758</td>\n",
       "      <td>2000-01-03</td>\n",
       "    </tr>\n",
       "    <tr>\n",
       "      <th>3</th>\n",
       "      <td>21.656229</td>\n",
       "      <td>2000-01-04</td>\n",
       "    </tr>\n",
       "    <tr>\n",
       "      <th>4</th>\n",
       "      <td>60.266253</td>\n",
       "      <td>2000-01-05</td>\n",
       "    </tr>\n",
       "    <tr>\n",
       "      <th>...</th>\n",
       "      <td>...</td>\n",
       "      <td>...</td>\n",
       "    </tr>\n",
       "    <tr>\n",
       "      <th>135</th>\n",
       "      <td>172.999045</td>\n",
       "      <td>2000-05-15</td>\n",
       "    </tr>\n",
       "    <tr>\n",
       "      <th>136</th>\n",
       "      <td>177.427802</td>\n",
       "      <td>2000-05-16</td>\n",
       "    </tr>\n",
       "    <tr>\n",
       "      <th>137</th>\n",
       "      <td>220.272598</td>\n",
       "      <td>2000-05-17</td>\n",
       "    </tr>\n",
       "    <tr>\n",
       "      <th>138</th>\n",
       "      <td>283.560323</td>\n",
       "      <td>2000-05-18</td>\n",
       "    </tr>\n",
       "    <tr>\n",
       "      <th>139</th>\n",
       "      <td>285.342109</td>\n",
       "      <td>2000-05-19</td>\n",
       "    </tr>\n",
       "  </tbody>\n",
       "</table>\n",
       "<p>140 rows × 2 columns</p>\n",
       "</div>"
      ],
      "text/plain": [
       "              y         ds\n",
       "0     83.230355 2000-01-01\n",
       "1     19.754555 2000-01-02\n",
       "2     21.619758 2000-01-03\n",
       "3     21.656229 2000-01-04\n",
       "4     60.266253 2000-01-05\n",
       "..          ...        ...\n",
       "135  172.999045 2000-05-15\n",
       "136  177.427802 2000-05-16\n",
       "137  220.272598 2000-05-17\n",
       "138  283.560323 2000-05-18\n",
       "139  285.342109 2000-05-19\n",
       "\n",
       "[140 rows x 2 columns]"
      ]
     },
     "execution_count": 43,
     "metadata": {},
     "output_type": "execute_result"
    }
   ],
   "source": [
    "df"
   ]
  },
  {
   "cell_type": "code",
   "execution_count": 44,
   "metadata": {},
   "outputs": [
    {
     "name": "stderr",
     "output_type": "stream",
     "text": [
      "INFO:fbprophet:Disabling yearly seasonality. Run prophet with yearly_seasonality=True to override this.\n",
      "INFO:fbprophet:Disabling daily seasonality. Run prophet with daily_seasonality=True to override this.\n"
     ]
    },
    {
     "data": {
      "text/plain": [
       "<fbprophet.forecaster.Prophet at 0x7f0bab88ca50>"
      ]
     },
     "execution_count": 44,
     "metadata": {},
     "output_type": "execute_result"
    }
   ],
   "source": [
    "prophet.fit(df.iloc[:train_size])"
   ]
  },
  {
   "cell_type": "code",
   "execution_count": 46,
   "metadata": {},
   "outputs": [],
   "source": [
    "future = prophet.make_future_dataframe(periods=len(df) - train_size)"
   ]
  },
  {
   "cell_type": "code",
   "execution_count": 47,
   "metadata": {},
   "outputs": [
    {
     "data": {
      "text/html": [
       "<div>\n",
       "<style scoped>\n",
       "    .dataframe tbody tr th:only-of-type {\n",
       "        vertical-align: middle;\n",
       "    }\n",
       "\n",
       "    .dataframe tbody tr th {\n",
       "        vertical-align: top;\n",
       "    }\n",
       "\n",
       "    .dataframe thead th {\n",
       "        text-align: right;\n",
       "    }\n",
       "</style>\n",
       "<table border=\"1\" class=\"dataframe\">\n",
       "  <thead>\n",
       "    <tr style=\"text-align: right;\">\n",
       "      <th></th>\n",
       "      <th>ds</th>\n",
       "    </tr>\n",
       "  </thead>\n",
       "  <tbody>\n",
       "    <tr>\n",
       "      <th>0</th>\n",
       "      <td>2000-01-01</td>\n",
       "    </tr>\n",
       "    <tr>\n",
       "      <th>1</th>\n",
       "      <td>2000-01-02</td>\n",
       "    </tr>\n",
       "    <tr>\n",
       "      <th>2</th>\n",
       "      <td>2000-01-03</td>\n",
       "    </tr>\n",
       "    <tr>\n",
       "      <th>3</th>\n",
       "      <td>2000-01-04</td>\n",
       "    </tr>\n",
       "    <tr>\n",
       "      <th>4</th>\n",
       "      <td>2000-01-05</td>\n",
       "    </tr>\n",
       "    <tr>\n",
       "      <th>...</th>\n",
       "      <td>...</td>\n",
       "    </tr>\n",
       "    <tr>\n",
       "      <th>135</th>\n",
       "      <td>2000-05-15</td>\n",
       "    </tr>\n",
       "    <tr>\n",
       "      <th>136</th>\n",
       "      <td>2000-05-16</td>\n",
       "    </tr>\n",
       "    <tr>\n",
       "      <th>137</th>\n",
       "      <td>2000-05-17</td>\n",
       "    </tr>\n",
       "    <tr>\n",
       "      <th>138</th>\n",
       "      <td>2000-05-18</td>\n",
       "    </tr>\n",
       "    <tr>\n",
       "      <th>139</th>\n",
       "      <td>2000-05-19</td>\n",
       "    </tr>\n",
       "  </tbody>\n",
       "</table>\n",
       "<p>140 rows × 1 columns</p>\n",
       "</div>"
      ],
      "text/plain": [
       "            ds\n",
       "0   2000-01-01\n",
       "1   2000-01-02\n",
       "2   2000-01-03\n",
       "3   2000-01-04\n",
       "4   2000-01-05\n",
       "..         ...\n",
       "135 2000-05-15\n",
       "136 2000-05-16\n",
       "137 2000-05-17\n",
       "138 2000-05-18\n",
       "139 2000-05-19\n",
       "\n",
       "[140 rows x 1 columns]"
      ]
     },
     "execution_count": 47,
     "metadata": {},
     "output_type": "execute_result"
    }
   ],
   "source": [
    "future"
   ]
  },
  {
   "cell_type": "code",
   "execution_count": 48,
   "metadata": {},
   "outputs": [],
   "source": [
    "forecast = prophet.predict(future)"
   ]
  },
  {
   "cell_type": "code",
   "execution_count": 51,
   "metadata": {},
   "outputs": [
    {
     "data": {
      "text/html": [
       "<div>\n",
       "<style scoped>\n",
       "    .dataframe tbody tr th:only-of-type {\n",
       "        vertical-align: middle;\n",
       "    }\n",
       "\n",
       "    .dataframe tbody tr th {\n",
       "        vertical-align: top;\n",
       "    }\n",
       "\n",
       "    .dataframe thead th {\n",
       "        text-align: right;\n",
       "    }\n",
       "</style>\n",
       "<table border=\"1\" class=\"dataframe\">\n",
       "  <thead>\n",
       "    <tr style=\"text-align: right;\">\n",
       "      <th></th>\n",
       "      <th>ds</th>\n",
       "      <th>yhat</th>\n",
       "      <th>yhat_lower</th>\n",
       "      <th>yhat_upper</th>\n",
       "    </tr>\n",
       "  </thead>\n",
       "  <tbody>\n",
       "    <tr>\n",
       "      <th>0</th>\n",
       "      <td>2000-01-01</td>\n",
       "      <td>77.104479</td>\n",
       "      <td>70.927209</td>\n",
       "      <td>83.162610</td>\n",
       "    </tr>\n",
       "    <tr>\n",
       "      <th>1</th>\n",
       "      <td>2000-01-02</td>\n",
       "      <td>16.334003</td>\n",
       "      <td>10.383394</td>\n",
       "      <td>22.097773</td>\n",
       "    </tr>\n",
       "    <tr>\n",
       "      <th>2</th>\n",
       "      <td>2000-01-03</td>\n",
       "      <td>20.664953</td>\n",
       "      <td>15.236794</td>\n",
       "      <td>26.731758</td>\n",
       "    </tr>\n",
       "    <tr>\n",
       "      <th>3</th>\n",
       "      <td>2000-01-04</td>\n",
       "      <td>19.401045</td>\n",
       "      <td>13.700277</td>\n",
       "      <td>25.454599</td>\n",
       "    </tr>\n",
       "    <tr>\n",
       "      <th>4</th>\n",
       "      <td>2000-01-05</td>\n",
       "      <td>64.209985</td>\n",
       "      <td>58.281832</td>\n",
       "      <td>70.260826</td>\n",
       "    </tr>\n",
       "    <tr>\n",
       "      <th>...</th>\n",
       "      <td>...</td>\n",
       "      <td>...</td>\n",
       "      <td>...</td>\n",
       "      <td>...</td>\n",
       "    </tr>\n",
       "    <tr>\n",
       "      <th>135</th>\n",
       "      <td>2000-05-15</td>\n",
       "      <td>181.395419</td>\n",
       "      <td>175.374860</td>\n",
       "      <td>187.168651</td>\n",
       "    </tr>\n",
       "    <tr>\n",
       "      <th>136</th>\n",
       "      <td>2000-05-16</td>\n",
       "      <td>180.181265</td>\n",
       "      <td>174.392873</td>\n",
       "      <td>186.283964</td>\n",
       "    </tr>\n",
       "    <tr>\n",
       "      <th>137</th>\n",
       "      <td>2000-05-17</td>\n",
       "      <td>225.039960</td>\n",
       "      <td>219.502510</td>\n",
       "      <td>231.262205</td>\n",
       "    </tr>\n",
       "    <tr>\n",
       "      <th>138</th>\n",
       "      <td>2000-05-18</td>\n",
       "      <td>286.644308</td>\n",
       "      <td>280.463640</td>\n",
       "      <td>292.619286</td>\n",
       "    </tr>\n",
       "    <tr>\n",
       "      <th>139</th>\n",
       "      <td>2000-05-19</td>\n",
       "      <td>287.986390</td>\n",
       "      <td>282.039851</td>\n",
       "      <td>293.997809</td>\n",
       "    </tr>\n",
       "  </tbody>\n",
       "</table>\n",
       "<p>140 rows × 4 columns</p>\n",
       "</div>"
      ],
      "text/plain": [
       "            ds        yhat  yhat_lower  yhat_upper\n",
       "0   2000-01-01   77.104479   70.927209   83.162610\n",
       "1   2000-01-02   16.334003   10.383394   22.097773\n",
       "2   2000-01-03   20.664953   15.236794   26.731758\n",
       "3   2000-01-04   19.401045   13.700277   25.454599\n",
       "4   2000-01-05   64.209985   58.281832   70.260826\n",
       "..         ...         ...         ...         ...\n",
       "135 2000-05-15  181.395419  175.374860  187.168651\n",
       "136 2000-05-16  180.181265  174.392873  186.283964\n",
       "137 2000-05-17  225.039960  219.502510  231.262205\n",
       "138 2000-05-18  286.644308  280.463640  292.619286\n",
       "139 2000-05-19  287.986390  282.039851  293.997809\n",
       "\n",
       "[140 rows x 4 columns]"
      ]
     },
     "execution_count": 51,
     "metadata": {},
     "output_type": "execute_result"
    }
   ],
   "source": [
    "forecast_pred = forecast[['ds', 'yhat', 'yhat_lower', 'yhat_upper']]\n",
    "forecast_pred"
   ]
  },
  {
   "cell_type": "code",
   "execution_count": 53,
   "metadata": {
    "collapsed": true,
    "jupyter": {
     "outputs_hidden": true
    }
   },
   "outputs": [
    {
     "data": {
      "text/plain": [
       "112    211.936914\n",
       "113    151.216193\n",
       "114    155.596897\n",
       "115    154.382743\n",
       "116    199.241437\n",
       "117    260.845785\n",
       "118    262.187868\n",
       "119    220.536421\n",
       "120    159.815700\n",
       "121    164.196404\n",
       "122    162.982251\n",
       "123    207.840945\n",
       "124    269.445293\n",
       "125    270.787375\n",
       "126    229.135928\n",
       "127    168.415207\n",
       "128    172.795912\n",
       "129    171.581758\n",
       "130    216.440452\n",
       "131    278.044800\n",
       "132    279.386883\n",
       "133    237.735436\n",
       "134    177.014715\n",
       "135    181.395419\n",
       "136    180.181265\n",
       "137    225.039960\n",
       "138    286.644308\n",
       "139    287.986390\n",
       "Name: yhat, dtype: float64"
      ]
     },
     "execution_count": 53,
     "metadata": {},
     "output_type": "execute_result"
    }
   ],
   "source": [
    "forecast_pred.iloc[train_size:]['yhat']"
   ]
  },
  {
   "cell_type": "code",
   "execution_count": 59,
   "metadata": {
    "collapsed": true,
    "jupyter": {
     "outputs_hidden": true
    }
   },
   "outputs": [
    {
     "data": {
      "text/plain": [
       "array([[208.64207321],\n",
       "       [147.36109261],\n",
       "       [155.29875062],\n",
       "       [162.34515782],\n",
       "       [205.49264934],\n",
       "       [260.3616313 ],\n",
       "       [257.59230966],\n",
       "       [215.32806538],\n",
       "       [163.47738704],\n",
       "       [156.64681764],\n",
       "       [159.77938226],\n",
       "       [204.02088775],\n",
       "       [260.6162391 ],\n",
       "       [272.1758394 ],\n",
       "       [229.77644929],\n",
       "       [157.86877348],\n",
       "       [170.5817364 ],\n",
       "       [159.69667973],\n",
       "       [218.71377179],\n",
       "       [284.38358274],\n",
       "       [266.37533896],\n",
       "       [226.18532659],\n",
       "       [180.61012531],\n",
       "       [172.99904489],\n",
       "       [177.42780184],\n",
       "       [220.27259841],\n",
       "       [283.56032339],\n",
       "       [285.34210921]])"
      ]
     },
     "execution_count": 59,
     "metadata": {},
     "output_type": "execute_result"
    }
   ],
   "source": [
    "test.values"
   ]
  },
  {
   "cell_type": "code",
   "execution_count": 60,
   "metadata": {},
   "outputs": [
    {
     "data": {
      "text/plain": [
       "array([6.23351399])"
      ]
     },
     "execution_count": 60,
     "metadata": {},
     "output_type": "execute_result"
    }
   ],
   "source": [
    "np.sqrt(sum((x - y) ** 2 for x, y in zip(forecast_pred.iloc[train_size:]['yhat'], test.values)) / len(test))"
   ]
  },
  {
   "cell_type": "code",
   "execution_count": null,
   "metadata": {},
   "outputs": [],
   "source": []
  }
 ],
 "metadata": {
  "kernelspec": {
   "display_name": "Python 3.7.4 64-bit ('base': conda)",
   "language": "python",
   "name": "python37464bitbaseconda9ef852fcd3cb450e9289824f3fbb8bb4"
  },
  "language_info": {
   "codemirror_mode": {
    "name": "ipython",
    "version": 3
   },
   "file_extension": ".py",
   "mimetype": "text/x-python",
   "name": "python",
   "nbconvert_exporter": "python",
   "pygments_lexer": "ipython3",
   "version": "3.7.7"
  }
 },
 "nbformat": 4,
 "nbformat_minor": 4
}
